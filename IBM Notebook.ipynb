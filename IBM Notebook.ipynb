{
 "cells": [
  {
   "cell_type": "markdown",
   "id": "1e12b881-c115-4af4-93c0-3a27b5d4029a",
   "metadata": {},
   "source": [
    "# My Jupyter Notebook on IBM Watson Studio"
   ]
  },
  {
   "cell_type": "markdown",
   "id": "a8bf9b94-4914-410f-ae7a-338c21e53f12",
   "metadata": {},
   "source": [
    "<b>Ayan Das</b>\n",
    "<p>Desired Occupation: Data Scientist</p>   "
   ]
  },
  {
   "cell_type": "markdown",
   "id": "167ac66b-09f1-46bc-b945-73ca3f742e86",
   "metadata": {},
   "source": [
    "<i>I am interested in data science because it is an increasingly growing field and I have always been interested in making informed decisions relying on statistics, learning about algorithms and their uses, machine learning and deep learning models and the potential they hold when it comes to utilizing data.</i>"
   ]
  },
  {
   "cell_type": "markdown",
   "id": "fadcbb70-4147-49ba-ab6a-7009fceab83f",
   "metadata": {},
   "source": [
    "<h3>The following code will print hello world and multiply two integers together</h3>"
   ]
  },
  {
   "cell_type": "code",
   "execution_count": 2,
   "id": "ff3bb46d-d110-4328-8b32-35ae72c5de51",
   "metadata": {},
   "outputs": [
    {
     "name": "stdout",
     "output_type": "stream",
     "text": [
      "Hello World\n",
      "15\n"
     ]
    }
   ],
   "source": [
    "print(\"Hello World\")\n",
    "print(3*5)"
   ]
  },
  {
   "cell_type": "markdown",
   "id": "da9a1169-f31b-488c-8216-f7e919f45cfd",
   "metadata": {},
   "source": [
    "______\n",
    "<ul>\n",
    "    <li>One</li>\n",
    "    <li>two</li>\n",
    "    <li>three</li>\n",
    "</ul>\n",
    "<a href = 'https://www.google.com/'>Google</a>\n",
    "     "
   ]
  },
  {
   "cell_type": "code",
   "execution_count": null,
   "id": "ffcebaa4-a200-4df7-ac37-fee81f708313",
   "metadata": {},
   "outputs": [],
   "source": []
  }
 ],
 "metadata": {
  "kernelspec": {
   "display_name": "Python 3 (ipykernel)",
   "language": "python",
   "name": "python3"
  },
  "language_info": {
   "codemirror_mode": {
    "name": "ipython",
    "version": 3
   },
   "file_extension": ".py",
   "mimetype": "text/x-python",
   "name": "python",
   "nbconvert_exporter": "python",
   "pygments_lexer": "ipython3",
   "version": "3.9.12"
  }
 },
 "nbformat": 4,
 "nbformat_minor": 5
}
